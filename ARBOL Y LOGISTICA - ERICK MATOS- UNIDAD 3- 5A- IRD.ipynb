{
 "cells": [
  {
   "cell_type": "markdown",
   "metadata": {},
   "source": [
    "### Erick Javier Matos Ramos IRD 5°A\n",
    "\n",
    "# REGRESION LOGISTICA"
   ]
  },
  {
   "cell_type": "markdown",
   "metadata": {},
   "source": [
    "Tome el ejemplo de #https://datatofish.com/logistic-regression-python/\n",
    "solo que le cambie la base de datos ya que en el ejemplo muestra una de 40 datos para metodos de entendimiento\n",
    "y use la de avocado.csv que fue tomada de kaggle\n"
   ]
  },
  {
   "cell_type": "code",
   "execution_count": 98,
   "metadata": {
    "collapsed": true
   },
   "outputs": [
    {
     "data": {
      "text/html": [
       "<div>\n",
       "<style scoped>\n",
       "    .dataframe tbody tr th:only-of-type {\n",
       "        vertical-align: middle;\n",
       "    }\n",
       "\n",
       "    .dataframe tbody tr th {\n",
       "        vertical-align: top;\n",
       "    }\n",
       "\n",
       "    .dataframe thead th {\n",
       "        text-align: right;\n",
       "    }\n",
       "</style>\n",
       "<table border=\"1\" class=\"dataframe\">\n",
       "  <thead>\n",
       "    <tr style=\"text-align: right;\">\n",
       "      <th></th>\n",
       "      <th>Unnamed: 0</th>\n",
       "      <th>Date</th>\n",
       "      <th>AveragePrice</th>\n",
       "      <th>Total Volume</th>\n",
       "      <th>4046</th>\n",
       "      <th>4225</th>\n",
       "      <th>4770</th>\n",
       "      <th>Total Bags</th>\n",
       "      <th>Small Bags</th>\n",
       "      <th>Large Bags</th>\n",
       "      <th>XLarge Bags</th>\n",
       "      <th>type</th>\n",
       "      <th>year</th>\n",
       "      <th>region</th>\n",
       "    </tr>\n",
       "  </thead>\n",
       "  <tbody>\n",
       "    <tr>\n",
       "      <td>1053</td>\n",
       "      <td>13</td>\n",
       "      <td>2015-09-27</td>\n",
       "      <td>1.27</td>\n",
       "      <td>92325.73</td>\n",
       "      <td>52301.92</td>\n",
       "      <td>14641.98</td>\n",
       "      <td>1047.02</td>\n",
       "      <td>24334.81</td>\n",
       "      <td>14588.26</td>\n",
       "      <td>9746.55</td>\n",
       "      <td>0.00</td>\n",
       "      <td>conventional</td>\n",
       "      <td>2015</td>\n",
       "      <td>Jacksonville</td>\n",
       "    </tr>\n",
       "    <tr>\n",
       "      <td>11299</td>\n",
       "      <td>41</td>\n",
       "      <td>2015-03-15</td>\n",
       "      <td>1.49</td>\n",
       "      <td>8349.37</td>\n",
       "      <td>7690.44</td>\n",
       "      <td>315.77</td>\n",
       "      <td>0.00</td>\n",
       "      <td>343.16</td>\n",
       "      <td>343.16</td>\n",
       "      <td>0.00</td>\n",
       "      <td>0.00</td>\n",
       "      <td>organic</td>\n",
       "      <td>2015</td>\n",
       "      <td>SanDiego</td>\n",
       "    </tr>\n",
       "    <tr>\n",
       "      <td>8588</td>\n",
       "      <td>2</td>\n",
       "      <td>2018-03-11</td>\n",
       "      <td>1.01</td>\n",
       "      <td>275804.74</td>\n",
       "      <td>65139.45</td>\n",
       "      <td>22713.79</td>\n",
       "      <td>10175.31</td>\n",
       "      <td>177776.19</td>\n",
       "      <td>146773.92</td>\n",
       "      <td>30140.64</td>\n",
       "      <td>861.63</td>\n",
       "      <td>conventional</td>\n",
       "      <td>2018</td>\n",
       "      <td>CincinnatiDayton</td>\n",
       "    </tr>\n",
       "    <tr>\n",
       "      <td>115</td>\n",
       "      <td>11</td>\n",
       "      <td>2015-10-11</td>\n",
       "      <td>1.24</td>\n",
       "      <td>653560.14</td>\n",
       "      <td>34707.02</td>\n",
       "      <td>392008.60</td>\n",
       "      <td>58490.10</td>\n",
       "      <td>168354.42</td>\n",
       "      <td>163669.01</td>\n",
       "      <td>4685.41</td>\n",
       "      <td>0.00</td>\n",
       "      <td>conventional</td>\n",
       "      <td>2015</td>\n",
       "      <td>BaltimoreWashington</td>\n",
       "    </tr>\n",
       "    <tr>\n",
       "      <td>5984</td>\n",
       "      <td>50</td>\n",
       "      <td>2017-01-15</td>\n",
       "      <td>0.93</td>\n",
       "      <td>6656554.36</td>\n",
       "      <td>2075029.62</td>\n",
       "      <td>2450277.12</td>\n",
       "      <td>95137.62</td>\n",
       "      <td>2036110.00</td>\n",
       "      <td>1910596.03</td>\n",
       "      <td>99912.91</td>\n",
       "      <td>25601.06</td>\n",
       "      <td>conventional</td>\n",
       "      <td>2017</td>\n",
       "      <td>California</td>\n",
       "    </tr>\n",
       "    <tr>\n",
       "      <td>...</td>\n",
       "      <td>...</td>\n",
       "      <td>...</td>\n",
       "      <td>...</td>\n",
       "      <td>...</td>\n",
       "      <td>...</td>\n",
       "      <td>...</td>\n",
       "      <td>...</td>\n",
       "      <td>...</td>\n",
       "      <td>...</td>\n",
       "      <td>...</td>\n",
       "      <td>...</td>\n",
       "      <td>...</td>\n",
       "      <td>...</td>\n",
       "      <td>...</td>\n",
       "    </tr>\n",
       "    <tr>\n",
       "      <td>14321</td>\n",
       "      <td>48</td>\n",
       "      <td>2016-01-24</td>\n",
       "      <td>1.35</td>\n",
       "      <td>70767.77</td>\n",
       "      <td>23737.39</td>\n",
       "      <td>5747.06</td>\n",
       "      <td>0.00</td>\n",
       "      <td>41283.32</td>\n",
       "      <td>39836.86</td>\n",
       "      <td>1446.46</td>\n",
       "      <td>0.00</td>\n",
       "      <td>organic</td>\n",
       "      <td>2016</td>\n",
       "      <td>SouthCentral</td>\n",
       "    </tr>\n",
       "    <tr>\n",
       "      <td>4839</td>\n",
       "      <td>3</td>\n",
       "      <td>2016-12-04</td>\n",
       "      <td>1.17</td>\n",
       "      <td>105733.40</td>\n",
       "      <td>43234.65</td>\n",
       "      <td>26047.67</td>\n",
       "      <td>160.98</td>\n",
       "      <td>36290.10</td>\n",
       "      <td>35680.66</td>\n",
       "      <td>486.67</td>\n",
       "      <td>122.77</td>\n",
       "      <td>conventional</td>\n",
       "      <td>2016</td>\n",
       "      <td>Roanoke</td>\n",
       "    </tr>\n",
       "    <tr>\n",
       "      <td>6674</td>\n",
       "      <td>51</td>\n",
       "      <td>2017-01-08</td>\n",
       "      <td>0.86</td>\n",
       "      <td>222849.42</td>\n",
       "      <td>17783.95</td>\n",
       "      <td>112339.02</td>\n",
       "      <td>3127.01</td>\n",
       "      <td>89599.44</td>\n",
       "      <td>41838.55</td>\n",
       "      <td>47759.42</td>\n",
       "      <td>1.47</td>\n",
       "      <td>conventional</td>\n",
       "      <td>2017</td>\n",
       "      <td>Indianapolis</td>\n",
       "    </tr>\n",
       "    <tr>\n",
       "      <td>1665</td>\n",
       "      <td>1</td>\n",
       "      <td>2015-12-20</td>\n",
       "      <td>1.33</td>\n",
       "      <td>306843.13</td>\n",
       "      <td>9646.13</td>\n",
       "      <td>198361.80</td>\n",
       "      <td>532.68</td>\n",
       "      <td>98302.52</td>\n",
       "      <td>88587.50</td>\n",
       "      <td>9715.02</td>\n",
       "      <td>0.00</td>\n",
       "      <td>conventional</td>\n",
       "      <td>2015</td>\n",
       "      <td>Philadelphia</td>\n",
       "    </tr>\n",
       "    <tr>\n",
       "      <td>15387</td>\n",
       "      <td>10</td>\n",
       "      <td>2017-10-22</td>\n",
       "      <td>1.64</td>\n",
       "      <td>27024.28</td>\n",
       "      <td>5719.08</td>\n",
       "      <td>906.97</td>\n",
       "      <td>75.10</td>\n",
       "      <td>20323.13</td>\n",
       "      <td>20034.56</td>\n",
       "      <td>288.57</td>\n",
       "      <td>0.00</td>\n",
       "      <td>organic</td>\n",
       "      <td>2017</td>\n",
       "      <td>Denver</td>\n",
       "    </tr>\n",
       "  </tbody>\n",
       "</table>\n",
       "<p>400 rows × 14 columns</p>\n",
       "</div>"
      ],
      "text/plain": [
       "       Unnamed: 0        Date  AveragePrice  Total Volume        4046  \\\n",
       "1053           13  2015-09-27          1.27      92325.73    52301.92   \n",
       "11299          41  2015-03-15          1.49       8349.37     7690.44   \n",
       "8588            2  2018-03-11          1.01     275804.74    65139.45   \n",
       "115            11  2015-10-11          1.24     653560.14    34707.02   \n",
       "5984           50  2017-01-15          0.93    6656554.36  2075029.62   \n",
       "...           ...         ...           ...           ...         ...   \n",
       "14321          48  2016-01-24          1.35      70767.77    23737.39   \n",
       "4839            3  2016-12-04          1.17     105733.40    43234.65   \n",
       "6674           51  2017-01-08          0.86     222849.42    17783.95   \n",
       "1665            1  2015-12-20          1.33     306843.13     9646.13   \n",
       "15387          10  2017-10-22          1.64      27024.28     5719.08   \n",
       "\n",
       "             4225      4770  Total Bags  Small Bags  Large Bags  XLarge Bags  \\\n",
       "1053     14641.98   1047.02    24334.81    14588.26     9746.55         0.00   \n",
       "11299      315.77      0.00      343.16      343.16        0.00         0.00   \n",
       "8588     22713.79  10175.31   177776.19   146773.92    30140.64       861.63   \n",
       "115     392008.60  58490.10   168354.42   163669.01     4685.41         0.00   \n",
       "5984   2450277.12  95137.62  2036110.00  1910596.03    99912.91     25601.06   \n",
       "...           ...       ...         ...         ...         ...          ...   \n",
       "14321     5747.06      0.00    41283.32    39836.86     1446.46         0.00   \n",
       "4839     26047.67    160.98    36290.10    35680.66      486.67       122.77   \n",
       "6674    112339.02   3127.01    89599.44    41838.55    47759.42         1.47   \n",
       "1665    198361.80    532.68    98302.52    88587.50     9715.02         0.00   \n",
       "15387      906.97     75.10    20323.13    20034.56      288.57         0.00   \n",
       "\n",
       "               type  year               region  \n",
       "1053   conventional  2015         Jacksonville  \n",
       "11299       organic  2015             SanDiego  \n",
       "8588   conventional  2018     CincinnatiDayton  \n",
       "115    conventional  2015  BaltimoreWashington  \n",
       "5984   conventional  2017           California  \n",
       "...             ...   ...                  ...  \n",
       "14321       organic  2016         SouthCentral  \n",
       "4839   conventional  2016              Roanoke  \n",
       "6674   conventional  2017         Indianapolis  \n",
       "1665   conventional  2015         Philadelphia  \n",
       "15387       organic  2017               Denver  \n",
       "\n",
       "[400 rows x 14 columns]"
      ]
     },
     "execution_count": 98,
     "metadata": {},
     "output_type": "execute_result"
    }
   ],
   "source": [
    "import pandas as pd\n",
    "from sklearn.model_selection import train_test_split\n",
    "from sklearn.linear_model import LogisticRegression\n",
    "from sklearn import metrics\n",
    "import seaborn as sn\n",
    "import matplotlib.pyplot as plt\n",
    "\n",
    "#df = pd.read_csv('https://raw.githubusercontent.com/ErickMatoss/otros/master/logisitca.csv') #base de datos del ejemplo\n",
    "df1 = pd.read_csv('https://raw.githubusercontent.com/ErickMatoss/otros/master/avocado.csv')\n",
    "df=df1.sample(400) #como son muchos datos, aqui defini solo usar 400 como muestra para este ejemplo (en la pagina solo eran 40)\n",
    "df\n"
   ]
  },
  {
   "cell_type": "code",
   "execution_count": 99,
   "metadata": {},
   "outputs": [],
   "source": [
    "#Datos del ejemplo\n",
    "#x = df[['gmat', 'gpa','work_experience']] #Estos son los datos del csv, los cuales serviran para entrenar al modelo\n",
    "#y = df['admited']    \n",
    "\n",
    "#datos con la base de datos avocado.csv\n",
    "x = df[['Total Volume','AveragePrice','Total Bags']]#Estos son los datos del csv, los cuales serviran para entrenar al modelo\n",
    "y = df['type']"
   ]
  },
  {
   "cell_type": "code",
   "execution_count": 100,
   "metadata": {},
   "outputs": [],
   "source": [
    "X_train,X_test,y_train,y_test = train_test_split(x,y,test_size=0.25,random_state=0)\n",
    "\n",
    "#utilizamos las funciones para entrenar al modelo\n",
    "#proporcionandole los datos de X,Y, un tamaño de prueba de .25% por lo tanto solo hagarrara el 25% de los datos para pruebas\n",
    "#y los demas los usara como datos de entrenamiento (75%)"
   ]
  },
  {
   "cell_type": "code",
   "execution_count": 101,
   "metadata": {},
   "outputs": [
    {
     "name": "stderr",
     "output_type": "stream",
     "text": [
      "C:\\Users\\ERICK\\Anaconda3\\lib\\site-packages\\sklearn\\linear_model\\logistic.py:432: FutureWarning: Default solver will be changed to 'lbfgs' in 0.22. Specify a solver to silence this warning.\n",
      "  FutureWarning)\n"
     ]
    }
   ],
   "source": [
    "logistic_regression= LogisticRegression()#Usaremos el metodo de regresion logistica de sklearn\n",
    "logistic_regression.fit(X_train,y_train)\n",
    "y_pred=logistic_regression.predict(X_test)"
   ]
  },
  {
   "cell_type": "code",
   "execution_count": 102,
   "metadata": {
    "scrolled": true
   },
   "outputs": [
    {
     "data": {
      "text/plain": [
       "<matplotlib.axes._subplots.AxesSubplot at 0x224b42bf6c8>"
      ]
     },
     "execution_count": 102,
     "metadata": {},
     "output_type": "execute_result"
    },
    {
     "data": {
      "image/png": "[encoded data removed]",
      "text/plain": [
       "<Figure size 432x288 with 2 Axes>"
      ]
     },
     "metadata": {
      "needs_background": "light"
     },
     "output_type": "display_data"
    }
   ],
   "source": [
    "confusion_matrix = pd.crosstab(y_test, y_pred, rownames=['Actual'], colnames=['Predicted'])\n",
    "sn.heatmap(confusion_matrix, annot=True)"
   ]
  },
  {
   "cell_type": "code",
   "execution_count": 103,
   "metadata": {},
   "outputs": [
    {
     "name": "stdout",
     "output_type": "stream",
     "text": [
      "Accuracy (Precisión):  0.69\n"
     ]
    }
   ],
   "source": [
    "print('Accuracy (Precisión): ',metrics.accuracy_score(y_test, y_pred))\n",
    "plt.show()\n",
    "#Imprimimos la precicision que es\n",
    "# (verdaderos positivos + Verdaderos negativos) / Total"
   ]
  },
  {
   "cell_type": "code",
   "execution_count": 104,
   "metadata": {},
   "outputs": [
    {
     "name": "stdout",
     "output_type": "stream",
     "text": [
      "       Total Volume  AveragePrice  Total Bags\n",
      "11925       8720.44          1.71     3022.46\n",
      "16031       3393.39          1.55     3375.55\n",
      "4912      489099.02          1.26    73209.02\n",
      "12213       4350.70          1.52     4084.20\n",
      "10939       1784.02          1.71      917.55\n",
      "...             ...           ...         ...\n",
      "3050      716003.18          1.05   136089.34\n",
      "9902         711.52          2.01       80.00\n",
      "10506       4985.34          1.76     1079.29\n",
      "8514       85839.98          1.28    34251.30\n",
      "7745      374807.93          1.45    43245.97\n",
      "\n",
      "[100 rows x 3 columns]\n",
      "['conventional' 'organic' 'conventional' 'organic' 'conventional'\n",
      " 'conventional' 'organic' 'organic' 'conventional' 'conventional'\n",
      " 'conventional' 'conventional' 'conventional' 'conventional'\n",
      " 'conventional' 'conventional' 'conventional' 'conventional'\n",
      " 'conventional' 'conventional' 'organic' 'conventional' 'conventional'\n",
      " 'conventional' 'conventional' 'conventional' 'conventional'\n",
      " 'conventional' 'organic' 'conventional' 'conventional' 'conventional'\n",
      " 'organic' 'conventional' 'conventional' 'conventional' 'conventional'\n",
      " 'conventional' 'organic' 'organic' 'conventional' 'conventional'\n",
      " 'organic' 'conventional' 'organic' 'conventional' 'conventional'\n",
      " 'conventional' 'conventional' 'conventional' 'conventional'\n",
      " 'conventional' 'conventional' 'conventional' 'organic' 'conventional'\n",
      " 'organic' 'conventional' 'organic' 'conventional' 'conventional'\n",
      " 'conventional' 'conventional' 'conventional' 'conventional' 'organic'\n",
      " 'conventional' 'organic' 'conventional' 'conventional' 'organic'\n",
      " 'conventional' 'organic' 'conventional' 'conventional' 'conventional'\n",
      " 'conventional' 'conventional' 'conventional' 'conventional' 'organic'\n",
      " 'conventional' 'conventional' 'conventional' 'conventional'\n",
      " 'conventional' 'conventional' 'conventional' 'conventional' 'organic'\n",
      " 'conventional' 'conventional' 'conventional' 'conventional' 'organic'\n",
      " 'conventional' 'conventional' 'conventional' 'conventional'\n",
      " 'conventional']\n"
     ]
    }
   ],
   "source": [
    "print (X_test) #valores de prueba \n",
    "print (y_pred) #predicted values"
   ]
  },
  {
   "cell_type": "markdown",
   "metadata": {},
   "source": [
    "# ARBOL DE DECISÓN"
   ]
  },
  {
   "cell_type": "markdown",
   "metadata": {},
   "source": [
    "Tome el ejemplo de esta pagina https://pythonprogramminglanguage.com/decision-tree/\n",
    "sin embargo le agregue la parte del arbol graficamente a parte luego de investigar.\n",
    "Pero me di cuenta que era un poco complicado estenderlo ya que eran pocos datos, asi que aplique el metodo train que ya   habiamos visto para entrenar mejor el modelo y use la base de datos de aguacate (avocado) obtenida de kaggle ya que tiene mas datos, le agregue la parte de calcular la precision como lo hice en el ejemplo de regresion logistica para que se vea mejor, de todos modos adjunte ambos ejemplos, el de la pagina el cual es el siguiente y el que hice modificado con la base de datos de avocado.csv que es el ultimo"
   ]
  },
  {
   "cell_type": "code",
   "execution_count": 105,
   "metadata": {},
   "outputs": [
    {
     "name": "stdout",
     "output_type": "stream",
     "text": [
      "La prediccion fue:  [1 1 1 1 1 1 0 1 1 0 0 1 1 1 1 0 0 1 0 0 0 0 0 0 0 1 1 0 1 1 0 0 1 1 1 0 0\n",
      " 0 0 1]\n"
     ]
    },
    {
     "data": {
      "text/plain": [
       "[Text(133.92000000000002, 181.2, 'X[1] <= 3.15\\ngini = 0.499\\nsamples = 40\\nvalue = [19, 21]'),\n",
       " Text(66.96000000000001, 108.72, 'gini = 0.0\\nsamples = 17\\nvalue = [17, 0]'),\n",
       " Text(200.88000000000002, 108.72, 'X[2] <= 2.5\\ngini = 0.159\\nsamples = 23\\nvalue = [2, 21]'),\n",
       " Text(133.92000000000002, 36.23999999999998, 'gini = 0.0\\nsamples = 2\\nvalue = [2, 0]'),\n",
       " Text(267.84000000000003, 36.23999999999998, 'gini = 0.0\\nsamples = 21\\nvalue = [0, 21]')]"
      ]
     },
     "execution_count": 105,
     "metadata": {},
     "output_type": "execute_result"
    },
    {
     "data": {
      "image/png": "[encoded data removed]",
      "text/plain": [
       "<Figure size 432x288 with 1 Axes>"
      ]
     },
     "metadata": {
      "needs_background": "light"
     },
     "output_type": "display_data"
    }
   ],
   "source": [
    "#https://pythonprogramminglanguage.com/decision-tree/\n",
    "\n",
    "from sklearn import tree  #importamos de sklearn el modelo tree \n",
    "import pandas as pd\n",
    "from sklearn.metrics import accuracy_score\n",
    "from sklearn.model_selection import cross_val_score\n",
    "from sklearn.model_selection import KFold\n",
    "\n",
    "df2 = pd.read_csv('https://raw.githubusercontent.com/ErickMatoss/otros/master/logisitca.csv') #usamos el mismo csv\n",
    "\n",
    "X = df2[['gmat', 'gpa','work_experience']] #Estos seran los datos de entrenamiento\n",
    "Y = df2['admited']\n",
    "\n",
    "clf = tree.DecisionTreeClassifier()     #Usamos el metodo de descision tree clasifier, en ves de logistic regresion de sklearn                                                                   \n",
    "\n",
    "clf = clf.fit(X, Y)               #entrenamos los datos con fit                                              \n",
    "prediction = clf.predict(df2[['gmat', 'gpa','work_experience']])  #le pasamos los datos que queremos predecir  \n",
    "print('La prediccion fue: ',prediction) #imprima la predccion del dato que hemos ingresado\n",
    "\n",
    "tree.plot_tree(clf) #imprimimos graficamente el arbol de decision\n",
    "\n",
    "#como podemos observar para estos 40 datos, este modelo fue muy preciso, la pagina nos recomienda para ejemplos en la vida\n",
    "#real tenemos mas datos para que se entrene mejor y a precision sea mas real "
   ]
  },
  {
   "cell_type": "markdown",
   "metadata": {},
   "source": [
    "Aqui si comparamos los valores de la prediccion con los de la base de datos real, podemos ver que atino a todos, pienso que\n",
    "es porque son muy pocos datos "
   ]
  },
  {
   "cell_type": "markdown",
   "metadata": {},
   "source": [
    "#### Mismo ejemplo con la base de datos Avocado.csv tomada de kengle"
   ]
  },
  {
   "cell_type": "code",
   "execution_count": 116,
   "metadata": {},
   "outputs": [
    {
     "name": "stdout",
     "output_type": "stream",
     "text": [
      "La prediccion fue:  ['conventional' 'conventional' 'organic' 'organic' 'conventional'\n",
      " 'organic' 'conventional' 'organic' 'conventional' 'conventional'\n",
      " 'conventional' 'conventional' 'conventional' 'conventional'\n",
      " 'conventional' 'organic' 'organic' 'organic' 'organic' 'conventional'\n",
      " 'conventional' 'organic' 'organic' 'conventional' 'conventional'\n",
      " 'conventional' 'conventional' 'conventional' 'organic' 'conventional'\n",
      " 'organic' 'conventional' 'conventional' 'conventional' 'organic'\n",
      " 'conventional' 'conventional' 'conventional' 'organic' 'conventional'\n",
      " 'organic' 'organic' 'conventional' 'organic' 'conventional' 'organic'\n",
      " 'organic' 'organic' 'conventional' 'organic' 'organic' 'conventional'\n",
      " 'organic' 'organic' 'organic' 'organic' 'organic' 'conventional'\n",
      " 'conventional' 'conventional' 'organic' 'organic' 'conventional'\n",
      " 'conventional' 'organic' 'conventional' 'organic' 'conventional'\n",
      " 'conventional' 'organic' 'organic' 'conventional' 'conventional'\n",
      " 'organic' 'conventional' 'conventional' 'conventional' 'organic'\n",
      " 'conventional' 'organic' 'conventional' 'organic' 'conventional'\n",
      " 'organic' 'organic' 'conventional' 'conventional' 'conventional'\n",
      " 'conventional' 'conventional' 'conventional' 'conventional' 'organic'\n",
      " 'conventional' 'organic' 'organic' 'organic' 'conventional' 'organic'\n",
      " 'organic' 'conventional' 'organic' 'organic' 'conventional' 'organic'\n",
      " 'organic' 'conventional' 'organic' 'organic' 'organic' 'organic'\n",
      " 'organic' 'organic' 'organic' 'organic' 'organic' 'conventional'\n",
      " 'organic' 'organic' 'conventional']\n",
      "Accuracy (Precisión): 0.9166666666666666\n"
     ]
    },
    {
     "data": {
      "image/png": "[encoded data removed]",
      "text/plain": [
       "<Figure size 432x288 with 1 Axes>"
      ]
     },
     "metadata": {
      "needs_background": "light"
     },
     "output_type": "display_data"
    }
   ],
   "source": [
    "#importamos las librerias necesarias\n",
    "\n",
    "from sklearn import tree  #importamos de sklearn el modelo tree \n",
    "import pandas as pdb\n",
    "from sklearn.metrics import accuracy_score\n",
    "\n",
    "\n",
    "df2 = pd.read_csv('https://raw.githubusercontent.com/ErickMatoss/otros/master/avocado.csv') #usamos el mismo csv\n",
    "df3=df2.sample(400)\n",
    "\n",
    "X = df3[['Total Volume','AveragePrice','Total Bags']] #Estos seran los datos de entrenamiento\n",
    "Y = df3['type']\n",
    "\n",
    "#Use este metodo que habia usado antes para entrenar mejor el algoritmo\n",
    "X_train, X_test, y_train, y_test = train_test_split(X, Y, test_size=0.3, random_state=1) # 70% de los datos seran para entrenar\n",
    "                                                                                         # el modelo y 30% para pruebas\n",
    "    \n",
    "clf2 = tree.DecisionTreeClassifier() #Usamos el metodo de descision tree clasifier, en ves de logistic regresion de sklearn                                                                   \n",
    "   \n",
    "\n",
    "clf2 = clf2.fit(X_train,y_train) #entrenamos los datos con train de la libreria sklearn\n",
    "\n",
    "y_pred = clf2.predict(X_test) #hacemos las predicciones\n",
    "\n",
    "print('La prediccion fue: ',y_pred) #imprimimos la prediccion\n",
    "\n",
    "tree.plot_tree(clf2) #imprimimos graficamente el arbol de decision\n",
    "\n",
    "print(\"Accuracy (Precisión):\",metrics.accuracy_score(y_test, y_pred)) #imprimos la precision del modelo con las 2 variables (test y pred)\n"
   ]
  },
  {
   "cell_type": "markdown",
   "metadata": {},
   "source": [
    "como podemos ver este metodo tiene una mejor precision"
   ]
  },
  {
   "cell_type": "code",
   "execution_count": null,
   "metadata": {},
   "outputs": [],
   "source": []
  }
 ],
 "metadata": {
  "kernelspec": {
   "display_name": "Python 3",
   "language": "python",
   "name": "python3"
  },
  "language_info": {
   "codemirror_mode": {
    "name": "ipython",
    "version": 3
   },
   "file_extension": ".py",
   "mimetype": "text/x-python",
   "name": "python",
   "nbconvert_exporter": "python",
   "pygments_lexer": "ipython3",
   "version": "3.7.4"
  }
 },
 "nbformat": 4,
 "nbformat_minor": 2
}
