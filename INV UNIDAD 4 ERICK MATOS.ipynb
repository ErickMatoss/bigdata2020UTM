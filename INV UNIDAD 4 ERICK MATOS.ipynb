{
 "cells": [
  {
   "cell_type": "markdown",
   "metadata": {},
   "source": [
    "## Investigacion Tercer Parcial Unidad 4\n",
    "### Alumno: Erick Javier Matos Ramos\n",
    "### 5°A IRD"
   ]
  },
  {
   "cell_type": "markdown",
   "metadata": {},
   "source": [
    "### Describir las diferentes arquitecturas de análisis de datos.\n",
    "Client / server systems\n",
    "The Client / Server Architecture.- It is a model for the development of information systems in which transactions are divided into independent processes that cooperate with each other to exchange information, services or resources. The process that initiates the dialogue or requests the resources and the process that responds to the requests is called the client.\n",
    "Multiple client / multiple server architectures.- They are more flexible, since the database is distributed on several servers. Each client has a direct server to which it makes its requests. The communication between the servers executes the transactions and requests of the users and this is transparent to them.\n",
    "Peer-to-peer architectures.- A true DBMS does not distinguish between client and server.\n",
    "Among the main characteristics of the client / server architecture, the following can be highlighted:\n",
    "\n",
    "1. The server presents all its clients with a unique and well-defined interface.\n",
    "2. The client does not need to know the logic of the server, only its external interface.\n",
    "3. The client does not depend on the physical location of the server, nor on the type of physical equipment it is on, nor on its operating system.\n",
    "4. Changes to the server involve little or no change to the client.\n",
    "\n",
    "### Types of client / server architecture\n",
    "#### 2-layer architecture:\n",
    "\n",
    "The traditional client / server architecture is a 2-tier solution. The 2-layer architecture consists of three components distributed in two layers: client (service requester) and server (service provider). The three components are:\n",
    "1.\tUser interface.\n",
    "2.\tProcessing management.\n",
    "3.\tManagement database.\n",
    "\n",
    "#### 3-layer architecture:\n",
    "\n",
    "The 3-layer architecture emerged to overcome the limitations of the 2-layer architecture. The third layer (intermediate server) is between the user interface (client) and the data manager (server). The middle layer provides processing management and processing rules and logic are executed in it. It allows hundreds of users (compared to only 100 users of the 2-layer architecture). The 3-tier architecture is used when a client / server design is needed that provides, compared to the 2-tier architecture, increasing performance, flexibility, maintainability, reusability and scalability while hiding the complexity of distributed processing from the user.\n"
   ]
  },
  {
   "cell_type": "markdown",
   "metadata": {},
   "source": [
    "### Identificar las características de un centro de datos.\n",
    "Data centers are spaces dedicated to storing and processing digital data and, as such, they are a fundamental element for the operation of the internet, but also for many applications and companies.\n",
    "1. Seamlessly connects to hundreds of distributed servers.\n",
    "2. Provides unmatched high availability, redundancy and reliability.\n",
    "3. The best machines on the market with modern servers and connections that we constantly update.\n",
    "4.  Scalability and reliability\n",
    "5. Net\n",
    "6. Air conditioning, humidity control, keep temperature around 70 degrees Fahrenheit to keep servers cool and humidity around 35-65%\n",
    "7. Redundant power backup, fire prevention and extinguishing systems\n",
    "8. Security protection, apart from the security that each server has in a virtual way, both physical and virtual security is very important\n",
    "\n"
   ]
  },
  {
   "cell_type": "markdown",
   "metadata": {},
   "source": [
    "### Identificar las características del análisis de datos Cloud y Fog\n",
    "#### Fog computing \n",
    "Fog computing refers to a decentralized computing structure, where resources, including the data and applications, get placed in logical locations between the data source and the cloud; it also is known by the terms ‘fogging’ and ‘fog networking.\n",
    "The goal of this is to bring basic analytic services to the network edge, improving performance by positioning computing resources closer to where they are needed, thereby reducing the distance that data needs to be transported on the network, improving overall network efficiency and performance.\n",
    "\n",
    "#### Cloud computing \n",
    "Is the on-demand availability of computer system resources, especially data storage and computing power, without direct active management by the user. The term is generally used to describe data centers available to many users over the Internet. Large clouds, predominant today, often have functions distributed over multiple locations from central servers. If the connection to the user is relatively close, it may be designated an edge server.\n",
    "1. Clouds may be limited to a single organization (enterprise clouds) or be available to many organizations (public cloud).\n",
    "2. Cloud computing relies on sharing of resources to achieve coherence and economies of scale.\n"
   ]
  },
  {
   "cell_type": "markdown",
   "metadata": {},
   "source": [
    "### Comprender el concepto de Ingeniería de datos.\n",
    "Data engineering is the aspect of data science that focuses on practical applications of data collection and analysis. \n",
    "For all the work that data scientists do to answer questions using large sets of information, there have to be mechanisms for collecting and validating that information. In order for that work to ultimately have any value, there also have to be mechanisms for applying it to real-world operations in some way. Those are both engineering tasks: the application of science to practical, functioning systems.\n"
   ]
  },
  {
   "cell_type": "markdown",
   "metadata": {},
   "source": [
    "### Definir los conceptos de adquisición, gestión, proceso y administración de datos.\n",
    "1. Data acquisition is the process of sampling signals that measure real world physical conditions and converting the resulting samples into digital numeric values that can be manipulated by a computer.\n",
    "2. Data management is the process of ingesting, storing, organizing and maintaining the data created and collected by an organization. Effective data management is a crucial piece of deploying the IT systems that run business applications and provide analytical information to help drive operational decision-making and strategic planning by corporate executives, business managers and other end users.\n",
    "3. Data processing is, generally, \"the collection and manipulation of items of data to produce meaningful information.\" In this sense it can be considered a subset of information processing, \"the change (processing) of information in any manner detectable by an observer.\"\n",
    "4. The database administrator (DBA) is the professional who manages information and communication technologies, being responsible for the technical, technological, scientific, business intelligence and legal aspects of databases.\n"
   ]
  },
  {
   "cell_type": "markdown",
   "metadata": {},
   "source": [
    "### Describir las arquitecturas Lambda y Kappa\n",
    "1. Lambda architecture is a data-processing architecture designed to handle massive quantities of data by taking advantage of both batch processing and stream processing methods, and minimizing the latency involved in querying big data.\n",
    "It is a Generic, Scalable, and Fault-tolerant data processing architecture to address batch and speed latency scenarios with big data and map-reduce.\n",
    "### -\n",
    "2. Kappa Architecture is a software architecture pattern. Rather than using a relational DB like SQL or a key-value store like Cassandra, the canonical data store in a Kappa Architecture system is an append-only immutable log. From the log, data is streamed through a computational system and fed into auxiliary stores for serving.\n"
   ]
  },
  {
   "cell_type": "markdown",
   "metadata": {},
   "source": [
    "#### Kappa:\n",
    " \n",
    "The Kappa architecture works with just stream processing as it is a simplified version of Lambda architecture. In Lambda architecture we have both stream processing layer and batch processing layer, where stream layer is used to compute the real-time data and batch layer stores the raw data as it arrives and computes it after some interval of time i.e it is not continuous like stream processing.\n",
    "\n",
    "Thus, The Kappa architecture is a sum up of speed layer and serving layer while other stream processing tools is a sum up of speed layer and batch layer(as it contains lambda architecture).\n"
   ]
  },
  {
   "cell_type": "markdown",
   "metadata": {},
   "source": [
    "### Describir las capas de cada arquitectura\n",
    "#### Lambda:\n",
    "1.\tAll data is pushed into both the Batch layer and Speed layer.\n",
    "2.\tThe Batch layer has a master dataset (immutable, append-only set of raw data) and pre-computes the batch views.\n",
    "3.\tThe Serving layer has Batch views for fast queries.\n",
    "4.\tThe Speed Layer compensates for processing time (to the serving layer) and deals with recent data only.\n",
    "5.\tAll queries can be answered by merging results from Batch views and Real-time views or pinging them individually.\n"
   ]
  },
  {
   "cell_type": "markdown",
   "metadata": {},
   "source": [
    "### Contrastar las ventajas y desventajas de cada arquitectura de big data con respecto a las arquitecturas incrementales.\n",
    "#### Pros Lampda Architecture:\n",
    "1. Retain the input data unchanged.\n",
    "2. Think about modeling data transformations, series of data states from the original input.\n",
    "3. Lambda architecture take in account the problem of reprocessing data.\n",
    "4. This happens all the time, the code will change, and you will need to reprocess all the information. Lots of reasons and you will need to live with this.\n",
    "\n",
    "\n",
    "#### Cons Lambda Architecture:\n",
    "1. Maintain the code that need to produce the same result from two complex distributed system is painful. \n",
    "2. Very different code for MapReduce and Storm/ Apache Spark.\n",
    "3. Not only is about different code, is also about debugging and interaction with other products like (hive, Oozie, Cascading, etc).\n",
    "4. At the end is a problem about different and diverging programming paradigms.\n",
    "\n",
    "#### Pros Kappa Architecture:\n",
    "1. The first benefit is that only you need toreprocessing only when you change the code.\n",
    "2. You can check if the new version is working ok andif not reverse to the old output table.\n",
    "3. You can mirror a Kafka topic to HDFS so you are not limited to the Kafka retention configuration.\n",
    "4. You have only a code to maintain with an unique framework.\n",
    "\n",
    "#### Cons Kappa Architecture:\n",
    "The real advantage is not about efficiency at all (You will need extra temporarily storage when reprocessing for example) is allowing your team to develop, test, debug and operate their systems on top of a single processing framework.\n"
   ]
  },
  {
   "cell_type": "code",
   "execution_count": null,
   "metadata": {},
   "outputs": [],
   "source": []
  }
 ],
 "metadata": {
  "kernelspec": {
   "display_name": "Python 3",
   "language": "python",
   "name": "python3"
  },
  "language_info": {
   "codemirror_mode": {
    "name": "ipython",
    "version": 3
   },
   "file_extension": ".py",
   "mimetype": "text/x-python",
   "name": "python",
   "nbconvert_exporter": "python",
   "pygments_lexer": "ipython3",
   "version": "3.7.4"
  }
 },
 "nbformat": 4,
 "nbformat_minor": 2
}
