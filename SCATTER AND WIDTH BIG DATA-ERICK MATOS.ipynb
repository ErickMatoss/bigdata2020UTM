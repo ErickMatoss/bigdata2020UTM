{
 "cells": [
  {
   "cell_type": "markdown",
   "metadata": {},
   "source": [
    "# Big data visualizations EXAMPLES\n",
    "\n",
    "## Erick Javier Matos Ramos IRD-5A\n",
    "#### SCATTER CHART, Variable Width and column chart and Linear Regression"
   ]
  },
  {
   "cell_type": "markdown",
   "metadata": {},
   "source": [
    "# SCATTER CHART"
   ]
  },
  {
   "cell_type": "code",
   "execution_count": 49,
   "metadata": {},
   "outputs": [
    {
     "data": {
      "image/png": "[encoded data removed]",
      "text/plain": [
       "<Figure size 432x288 with 1 Axes>"
      ]
     },
     "metadata": {
      "needs_background": "light"
     },
     "output_type": "display_data"
    }
   ],
   "source": [
    "# libraries\n",
    "#this is the basic visualization of scatter chart\n",
    "#databse https://www.kaggle.com/timoboz/superbowl-history-1967-2020\n",
    "import matplotlib.pyplot as plt\n",
    "import numpy as np\n",
    "import pandas as pd\n",
    " \n",
    "# Create a dataset:\n",
    "df=pd.read_csv('https://raw.githubusercontent.com/ErickMatoss/otros/master/superbowl.csv')\n",
    " \n",
    "# plot\n",
    "plt.plot('Winner Pts', 'Loser Pts', data=df, linestyle='none', marker='o')\n",
    "\n",
    "plt.show()\n"
   ]
  },
  {
   "cell_type": "markdown",
   "metadata": {},
   "source": [
    "# Variable Width and column chart"
   ]
  },
  {
   "cell_type": "code",
   "execution_count": 50,
   "metadata": {},
   "outputs": [
    {
     "data": {
      "image/png": "[encoded data removed]",
      "text/plain": [
       "<Figure size 432x288 with 1 Axes>"
      ]
     },
     "metadata": {
      "needs_background": "light"
     },
     "output_type": "display_data"
    }
   ],
   "source": [
    "# library\n",
    "# database: https://www.kaggle.com/neuromusic/avocado-prices\n",
    "import matplotlib.pyplot as plt\n",
    " \n",
    "df2=pd.read_csv('https://raw.githubusercontent.com/ErickMatoss/otros/master/avocado.csv')\n",
    "\n",
    "# Make fake dataset\n",
    "height = [0.1,1.2,1,1.4,0.3] #with these parameters the heights of the bars are configured\n",
    "bars = df2.AveragePrice\n",
    "# Choose the width of each bar and their positions\n",
    "width = [0.1,0.2,3,1.5,0.3]\n",
    "y_pos = [0,0.3,2,4.5,5.5]\n",
    " \n",
    "# Make the plot\n",
    "plt.bar(y_pos, height, width=width)\n",
    "plt.xticks(y_pos, bars)\n",
    "plt.show() #print the graph\n",
    "\n"
   ]
  },
  {
   "cell_type": "markdown",
   "metadata": {},
   "source": [
    "# Regresion Lineal Example"
   ]
  },
  {
   "cell_type": "code",
   "execution_count": 4,
   "metadata": {},
   "outputs": [
    {
     "data": {
      "image/png": "[encoded data removed]",
      "text/plain": [
       "<Figure size 432x288 with 1 Axes>"
      ]
     },
     "metadata": {
      "needs_background": "light"
     },
     "output_type": "display_data"
    },
    {
     "name": "stdout",
     "output_type": "stream",
     "text": [
      "La pendientes es: \n",
      "0.7379606288931388\n",
      "\n",
      "La ordenada es: \n",
      "68.79715892071249\n",
      "[  68.79715892   69.53511955   70.27308018 ... 2280.46516371 2281.20312434\n",
      " 2281.94108497]\n"
     ]
    }
   ],
   "source": [
    "#example taked from https://blog.adrianistan.eu/estadistica-python-analisis-datos-multidimensionales-regresion-lineal-parte-iv \n",
    "#with the databse\n",
    "import pandas as pd\n",
    "import numpy as np\n",
    "import matplotlib.pyplot as plt\n",
    "from scipy import stats as ss #SciPy is a library that already brings us a method that calculates the slope, the ordinate at the origin, the Pearson's linear \n",
    "#correlation coefficient and much more in one place. It is much more efficient, it is about linregress.\n",
    "\n",
    "df = pd.read_csv(\"https://raw.githubusercontent.com/ErickMatoss/otros/master/datos.csv\") \n",
    "pendiente, ordenada, pearson, p, error = ss.linregress(df[\"ingresos\"],df[\"gastos\"])\n",
    "\n",
    "def recta(x):\n",
    "    return pendiente*x + ordenada\n",
    "#we use np.vectorize tp calculate the values of the graph, which\n",
    "#allows mapping the native arrays of NumPy. More efficient. Same result.\n",
    "\n",
    "recta = np.vectorize(recta)\n",
    "linea = recta(np.arange(3000))\n",
    "plt.scatter(df[\"ingresos\"],df[\"gastos\"])\n",
    "plt.plot(linea)\n",
    "plt.show()\n",
    "print(\"La pendientes es: \")\n",
    "print(pendiente)\n",
    "print()\n",
    "print(\"La ordenada es: \")\n",
    "print(ordenada)\n",
    "#print(linea) #differents valor of the line "
   ]
  },
  {
   "cell_type": "code",
   "execution_count": null,
   "metadata": {},
   "outputs": [],
   "source": []
  }
 ],
 "metadata": {
  "kernelspec": {
   "display_name": "Python 3",
   "language": "python",
   "name": "python3"
  },
  "language_info": {
   "codemirror_mode": {
    "name": "ipython",
    "version": 3
   },
   "file_extension": ".py",
   "mimetype": "text/x-python",
   "name": "python",
   "nbconvert_exporter": "python",
   "pygments_lexer": "ipython3",
   "version": "3.7.4"
  }
 },
 "nbformat": 4,
 "nbformat_minor": 2
}
